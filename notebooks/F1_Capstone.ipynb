{
 "cells": [
  {
   "cell_type": "markdown",
   "id": "6fca012e-b3b0-4448-b11f-e50c3bff7352",
   "metadata": {},
   "source": [
    "##### F1 Capstone Project"
   ]
  },
  {
   "cell_type": "markdown",
   "id": "8fd0b6c2-2784-4660-a6cb-207f7873721d",
   "metadata": {},
   "source": [
    "What is the goal?\n",
    "- For 2024 (and 2025 YTD), predict each driver's finishing results per race using past performance data (and track data?)\n",
    "\n",
    "Considerations:  \n",
    "- should data be unmarried from specific drivers for better generalisation, or does that remove a crucial factor?\n",
    "\n",
    "Challenges:  \n",
    "- some years have seen big regulation changes\n",
    "- best predictors of race results come from pre-race sessions (esp. quali), so how to incorporate that"
   ]
  },
  {
   "cell_type": "markdown",
   "id": "ad9c6a6f-ca0d-4fc5-b764-c2227df9acad",
   "metadata": {},
   "source": [
    "useful background resources:\n",
    "[https://github.com/ethan-eplee/HorseRacePrediction](https://github.com/ethan-eplee/HorseRacePrediction)  \n",
    "[https://www.kaggle.com/discussions/general/333090](https://www.kaggle.com/discussions/general/333090)  \n",
    "[https://medium.com/@fernando.siguenza/building-an-ai-to-predict-f1-race-outcomes-a-data-science-journey-7f55e0d75b1e](https://medium.com/@fernando.siguenza/building-an-ai-to-predict-f1-race-outcomes-a-data-science-journey-7f55e0d75b1e)"
   ]
  },
  {
   "cell_type": "code",
   "execution_count": null,
   "id": "0fa8b1b7-a18a-4fab-a32b-a908fd998c85",
   "metadata": {},
   "outputs": [],
   "source": [
    "import pandas as pd\n",
    "import numpy as np"
   ]
  },
  {
   "cell_type": "code",
   "execution_count": null,
   "id": "9bc9b794-5174-4894-9d9c-3fc745319653",
   "metadata": {},
   "outputs": [],
   "source": [
    "import warnings\n",
    "warnings.simplefilter(action='ignore', category=FutureWarning)"
   ]
  },
  {
   "cell_type": "markdown",
   "id": "d7ce0d0c-9d67-472f-984a-0ec2d9ee7921",
   "metadata": {},
   "source": [
    "Context and prep:  \n",
    "- scoring was funky pre 1991, so for end-year WDC title, will use at earliest 1991-onwards data\n",
    "- a lot of the necessary data was pulled during the midcourse, some cleanup + EDA performed\n",
    "\n",
    "### will need 2025 data as the season progresses"
   ]
  },
  {
   "cell_type": "markdown",
   "id": "773cefa5-1aa1-4ae0-8777-e578161c9562",
   "metadata": {},
   "source": [
    "\n"
   ]
  },
  {
   "cell_type": "code",
   "execution_count": null,
   "id": "88981791-d9f4-4b52-8e4b-c2830fa88ba4",
   "metadata": {},
   "outputs": [],
   "source": [
    "#races_df: contains info of all GP 1950-2024 w/ geo info\n",
    "races_df = pd.read_csv('../data/races_df.csv')\n",
    "#results_df: contains placement of every driver at the conclusion of every GP (does not currently include sprint results for 2021-present), \n",
    "#but YTD points should include fastest lap for 2019-2024 <-- check this\n",
    "results_df = pd.read_csv('../data/results_df.csv', dtype={'number': str})\n",
    "#results from all 18 sprints, maybe add to model\n",
    "sprints = pd.read_csv('../data/sprint_results.csv')"
   ]
  },
  {
   "cell_type": "code",
   "execution_count": null,
   "id": "64c25162-abdd-4033-9cfe-9d66f7b594f8",
   "metadata": {},
   "outputs": [],
   "source": [
    "pd.read_csv('../data/results.csv')\n",
    "#grab 'fastestLapTime', 'fastestLap', and 'raceId', 'driverId' for merge for results_df\n",
    "fast_laps = pd.read_csv('../data/results.csv', usecols=['raceId', 'driverId', 'fastestLapTime', 'fastestLap'])"
   ]
  },
  {
   "cell_type": "code",
   "execution_count": null,
   "id": "cf0e7b49-2dbd-4480-996f-dda7ebc357b8",
   "metadata": {},
   "outputs": [],
   "source": [
    "#finishPosition - '\\N' if driver DNFed (not a NaN)\n",
    "#finishPosNum - same as above, but floats w/ NaNs <-- REMOVE\n",
    "#positionText - 'R' if driver DNFed\n",
    "#positionOrder - lists all drivers in points order, including DNFs <- start by using this\n",
    "results_df.sample(5)"
   ]
  },
  {
   "cell_type": "code",
   "execution_count": null,
   "id": "02ae8126-e860-4278-96c2-e6d5501790f3",
   "metadata": {},
   "outputs": [],
   "source": [
    "#dropping 'finishPosNum' because want placement to be int (I think?), and adding fastest laps\n",
    "results_df = results_df.drop(columns = 'finishPosNum')\n",
    "results_df = pd.merge(results_df, fast_laps, on = ['raceId', 'driverId'])"
   ]
  },
  {
   "cell_type": "code",
   "execution_count": null,
   "id": "f574b10e-340f-4701-ab32-b12912946154",
   "metadata": {},
   "outputs": [],
   "source": [
    "results_df.info()"
   ]
  },
  {
   "cell_type": "code",
   "execution_count": null,
   "id": "6eaf70d2-1f31-48c9-9eab-f1a8f6aa30a1",
   "metadata": {},
   "outputs": [],
   "source": [
    "pd.options.mode.chained_assignment = None  # default='warn'"
   ]
  },
  {
   "cell_type": "code",
   "execution_count": null,
   "id": "b8647c75-ade2-4993-9f52-f32fd5c67408",
   "metadata": {},
   "outputs": [],
   "source": [
    "#isolating the years (2001- ) and columns of interest for the model; using 2001 b/c first year of oldest active driver in 2024/2025\n",
    "results = results_df[['raceId', #database-specific id\n",
    "                           'year', \n",
    "                           'round', #race # within x year\n",
    "                           'date',\n",
    "                           'circuitId', #database-specific id\n",
    "                           'driverId', #database-specific id\n",
    "                           'code', #three-letter driver abbr. (for my reference)\n",
    "                           'constructorId', #database-specific id\n",
    "                           'grid', #starting position on grid; 0 = pitlane start\n",
    "                           'positionOrder', #finishing position, includes numbered finishes for retirements\n",
    "                           #positionText, #strings; 'R' if driver DNFed\n",
    "                           'points', #pts scored in race towards WDC/WCC\n",
    "                           'YTDpoints',\n",
    "                           'WDCposition', #as of race entry\n",
    "                           'wins', #as of race entry within x year\n",
    "                           #add: \n",
    "                           #% of points won?\n",
    "                           #total wins on specific circuit as of race -- DONE\n",
    "                           #performance on circuit (win %) -- DONE\n",
    "                           #performance on circuit (avg finishing pos) -- DONE\n",
    "                           #last race finish -- DONE\n",
    "                           #average of last 4 race finishes -- DONE\n",
    "                           #YTD avg finish pos? -- DONE\n",
    "                           #career win% -- DONE\n",
    "                           #YTD win% -- DONE\n",
    "                           #top 3 finishes on circuit -- DONE\n",
    "                           #maybe add wins to-date AND avg placement with constructor? (how to link driver + constructor)\n",
    "                           #maybe avg constructor performance to date?\n",
    "                           #whether driver is a rookie\n",
    "                          ]]\n",
    "results['date'] = pd.to_datetime(results['date'])\n",
    "#results[['circuitId', 'driverId', 'constructorId']] = results[['circuitId', 'driverId', 'constructorId']].astype(str) #bad for models that need numerical data\n",
    "#results_2024 = results_2024[results_2024['year'] > 2000] #for later"
   ]
  },
  {
   "cell_type": "code",
   "execution_count": null,
   "id": "ef578f39-7b3c-4b8a-9725-18de34448d72",
   "metadata": {},
   "outputs": [],
   "source": [
    "#filling in the NaNs\n",
    "nan_df = results[results.isna().any(axis=1)]"
   ]
  },
  {
   "cell_type": "code",
   "execution_count": null,
   "id": "50b52ac8-32f1-4804-9841-f7bbb0f4cb0f",
   "metadata": {},
   "outputs": [],
   "source": [
    "#if scored 0 points, then YTD and wins will also be 0\n",
    "nan_df.fillna({'YTDpoints': 0}, inplace=True)\n",
    "nan_df.fillna({'wins': 0}, inplace=True)\n",
    "nan_df['WDCposition'] = nan_df['positionOrder']"
   ]
  },
  {
   "cell_type": "code",
   "execution_count": null,
   "id": "da048ce4-8ff5-405a-953b-23081e65f4d1",
   "metadata": {},
   "outputs": [],
   "source": [
    "results = results.combine_first(nan_df)\n",
    "results[['WDCposition', 'wins']] = results[['WDCposition', 'wins']].astype('int64')"
   ]
  },
  {
   "cell_type": "code",
   "execution_count": null,
   "id": "890ee061-5335-4eb7-9685-f3d694380534",
   "metadata": {},
   "outputs": [],
   "source": [
    "results['won'] = np.where(results['positionOrder'] == 1, 1, 0)"
   ]
  },
  {
   "cell_type": "code",
   "execution_count": null,
   "id": "6c155f71-37d6-4e1a-9d16-6a6fd7e5123b",
   "metadata": {},
   "outputs": [],
   "source": [
    "#adding wins on specific circuit as of year [take #2, don't ask] (to date)\n",
    "results['prior_wins_on_circuit'] = 0\n",
    "driver_list = results['driverId'].unique()\n",
    "for driver in driver_list:\n",
    "    driver_df = results[results['driverId'] == driver].sort_values(by=['year','round'])\n",
    "    circuit_list = driver_df['circuitId'].unique()\n",
    "    for circuit in circuit_list:\n",
    "        circuits_df = driver_df[driver_df['circuitId'] == circuit].sort_values(by=['year'])\n",
    "        x=0\n",
    "        for i in range(circuits_df.shape[0]):\n",
    "            index = circuits_df.index[i]\n",
    "            results.loc[index, 'prior_wins_on_circuit'] = x\n",
    "            if circuits_df['won'].iloc[i] == 1:\n",
    "                x+=1           "
   ]
  },
  {
   "cell_type": "code",
   "execution_count": null,
   "id": "9625349f-6cff-4392-9a1b-910a2974c2ed",
   "metadata": {},
   "outputs": [],
   "source": [
    "#adding win percentage on circuit (to date)\n",
    "results['win_percentage_on_circuit'] = 0\n",
    "driver_list = results['driverId'].unique()\n",
    "for driver in driver_list:\n",
    "    driver_df = results[results['driverId'] == driver].sort_values(by=['year','round'])\n",
    "    circuit_list = driver_df['circuitId'].unique()\n",
    "    for circuit in circuit_list:\n",
    "        circuits_df = driver_df[driver_df['circuitId'] == circuit].sort_values(by=['year'])\n",
    "        win_percentage = 0\n",
    "        wins = 0\n",
    "        count = 1\n",
    "        for i in range(circuits_df.shape[0]):\n",
    "            win_percentage = round(((wins / count) * 100), 1)\n",
    "            index = circuits_df.index[i]\n",
    "            results.loc[index, 'win_percentage_on_circuit'] = win_percentage\n",
    "            if circuits_df['won'].iloc[i] == 1:\n",
    "                wins +=1\n",
    "            count +=1"
   ]
  },
  {
   "cell_type": "code",
   "execution_count": null,
   "id": "7b19b484-e35c-4219-bc90-8c6169cf3ddd",
   "metadata": {},
   "outputs": [],
   "source": [
    "#adding average finishing position on circuit (to date)\n",
    "results['avg_finish_pos_on_circuit'] = 0\n",
    "driver_list = results['driverId'].unique()\n",
    "for driver in driver_list:\n",
    "    driver_df = results[results['driverId'] == driver].sort_values(by=['year','round'])\n",
    "    circuit_list = driver_df['circuitId'].unique()\n",
    "    for circuit in circuit_list:\n",
    "        circuits_df = driver_df[driver_df['circuitId'] == circuit].sort_values(by=['year'])\n",
    "        avg_finish_pos = 0\n",
    "        finish_pos = 0\n",
    "        cumulative_finish_pos = 0\n",
    "        count = 1\n",
    "        for i in range(circuits_df.shape[0]):\n",
    "            avg_finish_pos = round((cumulative_finish_pos / count), 0)\n",
    "            index = circuits_df.index[i]\n",
    "            results.loc[index, 'avg_finish_pos_on_circuit'] = avg_finish_pos\n",
    "            finish_pos = circuits_df['positionOrder'].iloc[i]\n",
    "            cumulative_finish_pos += finish_pos\n",
    "            count +=1"
   ]
  },
  {
   "cell_type": "code",
   "execution_count": null,
   "id": "88ba96bb-bff2-4c6f-ad41-77172330acb7",
   "metadata": {},
   "outputs": [],
   "source": [
    "#adding previous race finish\n",
    "results['previous_finish'] = 0\n",
    "driver_list = results['driverId'].unique()\n",
    "for driver in driver_list:\n",
    "    driver_df = results[results['driverId'] == driver].sort_values(by=['year','round'])\n",
    "    previous_finish = 0\n",
    "    for i in range(driver_df.shape[0]):\n",
    "        index = driver_df.index[i]\n",
    "        results.loc[index, 'previous_finish'] = previous_finish\n",
    "        previous_finish = driver_df['positionOrder'].iloc[i]        "
   ]
  },
  {
   "cell_type": "code",
   "execution_count": null,
   "id": "b28e6790-b1e9-4b6c-a611-7271db0c485b",
   "metadata": {},
   "outputs": [],
   "source": [
    "#adding average of last 4 (or up to 4) race finishes\n",
    "results['avg_last_4_finishes'] = np.nan\n",
    "driver_list = results['driverId'].unique()\n",
    "for driver in driver_list:\n",
    "    driver_df = results[results['driverId'] == driver].sort_values(by=['year','round'])\n",
    "    driver_df['avg_last_4_finishes'] = round((driver_df['positionOrder'].rolling(4, min_periods=1).mean()), 0)\n",
    "    temp_df = driver_df[['avg_last_4_finishes']].shift(periods=1, fill_value=0)\n",
    "    results = results.combine_first(temp_df)"
   ]
  },
  {
   "cell_type": "code",
   "execution_count": null,
   "id": "c98e1bab-6259-4e6d-93e5-503bd166c373",
   "metadata": {},
   "outputs": [],
   "source": [
    "#adding YTD avg finish pos\n",
    "results['YTD_avg_finish_pos'] = np.nan\n",
    "driver_list = results['driverId'].unique()\n",
    "for driver in driver_list:\n",
    "    driver_df = results[results['driverId'] == driver].sort_values(by=['year','round'])\n",
    "    for year in range(driver_df['year'].min(), driver_df['year'].max()+1):\n",
    "        one_year_df = driver_df[driver_df['year'] == year].sort_values(by=['round'])\n",
    "        one_year_df['YTD_avg_finish_pos'] = round((one_year_df['positionOrder'].expanding().mean()), 0).shift(periods=1, fill_value=0)\n",
    "        temp_df = one_year_df[['YTD_avg_finish_pos']]\n",
    "        results = results.combine_first(temp_df)"
   ]
  },
  {
   "cell_type": "code",
   "execution_count": null,
   "id": "8b09bdc4-6ce0-4817-b0e0-c989dd3fc836",
   "metadata": {},
   "outputs": [],
   "source": [
    "#adding career win% (to date)\n",
    "results['career_win_pct'] = 0\n",
    "driver_list = results['driverId'].unique()\n",
    "for driver in driver_list:\n",
    "    driver_df = results[results['driverId'] == driver].sort_values(by=['year','round'])\n",
    "    win_percentage = 0\n",
    "    wins = 0\n",
    "    count = 1\n",
    "    for i in range(driver_df.shape[0]):\n",
    "        win_percentage = round(((wins / count) * 100), 1)\n",
    "        index = driver_df.index[i]\n",
    "        results.loc[index, 'career_win_pct'] = win_percentage\n",
    "        if driver_df['won'].iloc[i] == 1:\n",
    "            wins +=1\n",
    "        count +=1"
   ]
  },
  {
   "cell_type": "code",
   "execution_count": null,
   "id": "4db7db83-696c-4898-a190-eda90257c953",
   "metadata": {},
   "outputs": [],
   "source": [
    "#adding YTD win%\n",
    "results['YTD_win_pct'] = 0\n",
    "driver_list = results['driverId'].unique()\n",
    "for driver in driver_list:\n",
    "    driver_df = results[results['driverId'] == driver].sort_values(by=['year','round'])\n",
    "    for year in range(driver_df['year'].min(), driver_df['year'].max()+1):\n",
    "        one_year_df = driver_df[driver_df['year'] == year].sort_values(by=['round'])\n",
    "        win_percentage = 0\n",
    "        wins = 0\n",
    "        count = 1\n",
    "        for i in range(one_year_df.shape[0]):\n",
    "            win_percentage = round(((wins / count) * 100), 1)\n",
    "            index = one_year_df.index[i]\n",
    "            results.loc[index, 'YTD_win_pct'] = win_percentage\n",
    "            if one_year_df['won'].iloc[i] == 1:\n",
    "                wins +=1\n",
    "            count +=1"
   ]
  },
  {
   "cell_type": "code",
   "execution_count": null,
   "id": "494b86ed-4682-4aad-8008-6cf0a7c824b9",
   "metadata": {},
   "outputs": [],
   "source": [
    "#adding top3 finishes on circuit (to date)\n",
    "results['top_3_finishes_on_circuit'] = 0\n",
    "driver_list = results['driverId'].unique()\n",
    "for driver in driver_list:\n",
    "    driver_df = results[results['driverId'] == driver].sort_values(by=['year','round'])\n",
    "    circuit_list = driver_df['circuitId'].unique()\n",
    "    for circuit in circuit_list:\n",
    "        circuits_df = driver_df[driver_df['circuitId'] == circuit].sort_values(by=['year'])\n",
    "        x=0\n",
    "        for i in range(circuits_df.shape[0]):\n",
    "            index = circuits_df.index[i]\n",
    "            results.loc[index, 'top_3_finishes_on_circuit'] = x\n",
    "            if (circuits_df['positionOrder'].iloc[i] >= 1) & (circuits_df['positionOrder'].iloc[i] <= 3):\n",
    "                x+=1       "
   ]
  },
  {
   "cell_type": "code",
   "execution_count": null,
   "id": "65f74fc0-77d2-4eac-bd15-9d9f03f07841",
   "metadata": {},
   "outputs": [],
   "source": [
    "#adding whether driver is a rookier (first year)\n",
    "results['rookie'] = 0\n",
    "driver_list = results['driverId'].unique()\n",
    "for driver in driver_list:\n",
    "    driver_df = results[results['driverId'] == driver].sort_values(by=['year','round'])\n",
    "    rookie_year = driver_df['year'].min()\n",
    "    #Tbc"
   ]
  },
  {
   "cell_type": "code",
   "execution_count": null,
   "id": "d9b36f1f-64e1-45bb-9062-05c9d05f335e",
   "metadata": {},
   "outputs": [],
   "source": [
    "results.info()"
   ]
  },
  {
   "cell_type": "code",
   "execution_count": null,
   "id": "ff1e36be-28c3-4304-820e-b0d865cf0de2",
   "metadata": {},
   "outputs": [],
   "source": [
    "#testing testing\n",
    "driver = 1\n",
    "circuit = 1\n",
    "year = 2020"
   ]
  },
  {
   "cell_type": "code",
   "execution_count": null,
   "id": "2dcca98b-35da-4f85-9ada-b61ea9fb2a46",
   "metadata": {},
   "outputs": [],
   "source": [
    "results[results['driverId'] == driver].sort_values(by=['year','round'])"
   ]
  },
  {
   "cell_type": "code",
   "execution_count": null,
   "id": "ae79b0d8-50f0-4961-b83f-c7458f528b5e",
   "metadata": {},
   "outputs": [],
   "source": [
    "results[(results['driverId'] == driver) & (results['circuitId'] == circuit)].sort_values(by=['year'])"
   ]
  },
  {
   "cell_type": "markdown",
   "id": "feb6d1b1-9c4b-4848-be88-e7b9641b0393",
   "metadata": {},
   "source": [
    "What features are important and can they be factored into the model?  \n",
    "- performance in previous race(s) and pre-race sessions <-- DEFINITELY WANT TO ADD 2024 PRE-RACE SESSIONS SINCE DATA EXISTS!\n",
    "- constructor performance? (good car = good performance)\n",
    "- within teams, driver vs driver stats?\n",
    "- team pitstop performance <- need to add\n",
    "- weather (rain / rain expected)\n",
    "- tyre performance <-- if I can find this (maybe based on tyre+laptime/stints?)"
   ]
  },
  {
   "cell_type": "markdown",
   "id": "03296080-a836-49c7-99bf-7a7d51e4bbae",
   "metadata": {},
   "source": [
    "Model building:"
   ]
  },
  {
   "cell_type": "code",
   "execution_count": null,
   "id": "bc78d692-6325-4d82-aa16-57c67743454d",
   "metadata": {},
   "outputs": [],
   "source": [
    "import lightgbm as lgb\n",
    "from sklearn.model_selection import train_test_split\n",
    "from sklearn.metrics import classification_report "
   ]
  },
  {
   "cell_type": "code",
   "execution_count": null,
   "id": "55af645e-d199-48dd-93e8-9619de569198",
   "metadata": {},
   "outputs": [],
   "source": [
    "train_data_1 = results[results['year'] < 2024]\n",
    "test_data_1 = results[results['year'] == 2024]"
   ]
  },
  {
   "cell_type": "code",
   "execution_count": null,
   "id": "b22c4920-649b-4059-a10a-625a92011d9a",
   "metadata": {},
   "outputs": [],
   "source": [
    "X_train = train_data_1.drop(columns = ['positionOrder', 'date', 'code'])\n",
    "y_train = train_data_1['positionOrder']\n",
    "X_test = test_data_1.drop(columns = ['positionOrder', 'date', 'code'])\n",
    "y_test = test_data_1['positionOrder']"
   ]
  },
  {
   "cell_type": "code",
   "execution_count": null,
   "id": "c2bd0929-ef39-4989-b29f-4cabeab51089",
   "metadata": {},
   "outputs": [],
   "source": [
    "params = {\n",
    "'objective': 'multiclass', #predicting placement, 1-20\n",
    "'boosting_type': 'gbdt', #default\n",
    "'num_leaves': 31, #default\n",
    "'learning_rate': 0.1, #default\n",
    "'feature_fraction': 1.0 #default; can be reduced to speed up training or reduce overfitting\n",
    "}\n",
    "clf = lgb.LGBMClassifier(**params)\n",
    "clf.fit(X_train, y_train)"
   ]
  },
  {
   "cell_type": "code",
   "execution_count": null,
   "id": "5a4c7d58-f6c3-4d35-ae63-17a03f1a20cf",
   "metadata": {},
   "outputs": [],
   "source": [
    "predictions = clf.predict(X_test)\n",
    "print(classification_report(y_test, predictions))"
   ]
  },
  {
   "cell_type": "code",
   "execution_count": null,
   "id": "d93eb04b-325a-4ad1-a2da-172fa3bf076a",
   "metadata": {},
   "outputs": [],
   "source": []
  }
 ],
 "metadata": {
  "kernelspec": {
   "display_name": "Python 3 (ipykernel)",
   "language": "python",
   "name": "python3"
  },
  "language_info": {
   "codemirror_mode": {
    "name": "ipython",
    "version": 3
   },
   "file_extension": ".py",
   "mimetype": "text/x-python",
   "name": "python",
   "nbconvert_exporter": "python",
   "pygments_lexer": "ipython3",
   "version": "3.12.11"
  }
 },
 "nbformat": 4,
 "nbformat_minor": 5
}
