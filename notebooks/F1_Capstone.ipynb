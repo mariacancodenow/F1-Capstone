{
 "cells": [
  {
   "cell_type": "markdown",
   "id": "6fca012e-b3b0-4448-b11f-e50c3bff7352",
   "metadata": {},
   "source": [
    "##### F1 Capstone Project"
   ]
  },
  {
   "cell_type": "markdown",
   "id": "8fd0b6c2-2784-4660-a6cb-207f7873721d",
   "metadata": {},
   "source": [
    "What is the goal?\n",
    "- For 2024 (and 2025 YTD), predict each driver's finishing results per race using past performance data (and track data?)\n",
    "\n",
    "Challenges:  \n",
    "- some years have seen big regulation changes\n",
    "- best predictors of race results come from pre-race sessions (esp. quali), so how to incorporate that"
   ]
  },
  {
   "cell_type": "code",
   "execution_count": 1,
   "id": "0fa8b1b7-a18a-4fab-a32b-a908fd998c85",
   "metadata": {},
   "outputs": [],
   "source": [
    "import pandas as pd\n",
    "import numpy as np"
   ]
  },
  {
   "cell_type": "code",
   "execution_count": 3,
   "id": "9bc9b794-5174-4894-9d9c-3fc745319653",
   "metadata": {},
   "outputs": [],
   "source": [
    "import warnings\n",
    "warnings.simplefilter(action='ignore', category=FutureWarning)"
   ]
  },
  {
   "cell_type": "markdown",
   "id": "d7ce0d0c-9d67-472f-984a-0ec2d9ee7921",
   "metadata": {},
   "source": [
    "Context and prep:  \n",
    "- scoring was funky pre 1991, so for end-year WDC title, will use at earliest 1991-onwards data\n",
    "- a lot of the necessary data was pulled during the midcourse, some cleanup + EDA performed\n",
    "\n",
    "##### will need 2025 data as the season progresses\n",
    "- ergast API (where most data was obtained) is down now, so will use OpenF1 for 2025 data (but ref ids won't match, so will have to match some other way)"
   ]
  },
  {
   "cell_type": "markdown",
   "id": "773cefa5-1aa1-4ae0-8777-e578161c9562",
   "metadata": {},
   "source": [
    "\n"
   ]
  },
  {
   "cell_type": "code",
   "execution_count": 5,
   "id": "88981791-d9f4-4b52-8e4b-c2830fa88ba4",
   "metadata": {},
   "outputs": [],
   "source": [
    "#races_df: contains info of all GP 1950-2024 w/ geo info\n",
    "races_df = pd.read_csv('../data/races_df.csv')\n",
    "#results_df: contains placement of every driver at the conclusion of every GP (does not currently include sprint results for 2021-present), \n",
    "#but YTD points should include fastest lap for 2019-2024 <-- check this\n",
    "results_df = pd.read_csv('../data/results_df.csv', dtype={'number': str})\n",
    "#results from all 18 sprints, maybe add to model\n",
    "sprints = pd.read_csv('../data/sprint_results.csv')"
   ]
  },
  {
   "cell_type": "code",
   "execution_count": 7,
   "id": "5a2e78a8-b548-4b72-99fa-344d1279e1ac",
   "metadata": {},
   "outputs": [],
   "source": [
    "#tbd whether this will be used\n",
    "lap_times = pd.read_csv('../data/lap_times.csv')\n",
    "pit_stops = pd.read_csv('../data/pit_stops.csv')\n",
    "quali_times = pd.read_csv('../data/qualifying.csv')"
   ]
  },
  {
   "cell_type": "markdown",
   "id": "3a5f0d11-5c75-478a-87c0-99b334c4d063",
   "metadata": {},
   "source": [
    "Because I believe some of the best predictors of race results are prerace sesssions, want to grab whaever info exists on that:\n",
    "- [OpenF1](https://openf1.org/) has placement data for drivers throughout sessios"
   ]
  },
  {
   "cell_type": "code",
   "execution_count": 156,
   "id": "a3811717-4a70-4565-87b5-e310cb80cf3d",
   "metadata": {},
   "outputs": [],
   "source": [
    "#pulling in more data from prerace sessions for 2023 to present\n",
    "sessions = pd.read_csv('../data/sessions.csv')"
   ]
  },
  {
   "cell_type": "code",
   "execution_count": 19,
   "id": "fcb87e4c-045c-403d-907a-9ec29ca45dc4",
   "metadata": {},
   "outputs": [],
   "source": [
    "meeting_keys = sessions['meeting_key'].unique()"
   ]
  },
  {
   "cell_type": "code",
   "execution_count": 39,
   "id": "fffd904d-ae5d-432c-9986-1a9c21b54540",
   "metadata": {},
   "outputs": [],
   "source": [
    "#grabbing placement info for all sessions (including prerace)\n",
    "meeting_positions = []\n",
    "for x in meeting_keys:\n",
    "    data = pd.read_csv(f'https://api.openf1.org/v1/position?meeting_key={x}&csv=true')\n",
    "    meeting_positions.append(data)\n",
    "positions_df = pd.concat(meeting_positions, ignore_index=True)"
   ]
  },
  {
   "cell_type": "code",
   "execution_count": 74,
   "id": "d67cdda7-461c-4885-8e32-055f81fd7ce9",
   "metadata": {},
   "outputs": [],
   "source": [
    "#positions_df contains position info at intervals (multiple entries for every session); need to just grab the last for each session/driver\n",
    "session_keys = positions_df['session_key'].unique()\n",
    "filtered_positions = []\n",
    "for x in session_keys:\n",
    "    session = positions_df[positions_df['session_key'] == x]\n",
    "    drivers = session['driver_number'].unique()\n",
    "    for y in drivers:\n",
    "        temp_df = session[session['driver_number'] == y]\n",
    "        last_row = temp_df.iloc[-1:]\n",
    "        filtered_positions.append(last_row)\n",
    "session_results = pd.concat(filtered_positions, ignore_index=True)"
   ]
  },
  {
   "cell_type": "code",
   "execution_count": 92,
   "id": "53578a9b-75a9-4d6a-b322-42e0637b5c47",
   "metadata": {},
   "outputs": [],
   "source": [
    "#meeting keys 1140, 1228, 1253 are preseason testing and can be discarded (for now)\n",
    "preseason_testing_ids = [1140, 1228, 1253]\n",
    "session_results = session_results[~session_results.meeting_key.isin(preseason_testing_ids)]"
   ]
  },
  {
   "cell_type": "code",
   "execution_count": 286,
   "id": "12461f86-546f-4794-86c4-a05dac99e989",
   "metadata": {},
   "outputs": [],
   "source": [
    "sessions_temp = pd.merge(session_results, sessions, on = ['meeting_key', 'session_key'])"
   ]
  },
  {
   "cell_type": "code",
   "execution_count": 238,
   "id": "08cf1b7e-d891-4cab-a56e-ecb8ccc4a702",
   "metadata": {},
   "outputs": [],
   "source": [
    "#sessions_temp['date_start'] = pd.to_datetime(sessions_temp['date_start'].str[:-6])"
   ]
  },
  {
   "cell_type": "code",
   "execution_count": 298,
   "id": "9f3a54ca-a9b3-428a-a278-db57127cfba3",
   "metadata": {},
   "outputs": [],
   "source": [
    "sessions_temp['date_long'] = sessions_temp['date_start'].str[:-6]\n",
    "sessions_temp['date'] = sessions_temp['date_start'].str[:-15]"
   ]
  },
  {
   "cell_type": "code",
   "execution_count": 300,
   "id": "418e36b0-c090-4334-bead-5c7676df7283",
   "metadata": {},
   "outputs": [],
   "source": [
    "sessions_df = sessions_temp[['year', \n",
    "                            'date',\n",
    "                            'date_long',\n",
    "                            'circuit_short_name', \n",
    "                            'meeting_key', \n",
    "                            'session_key', \n",
    "                            'session_name', \n",
    "                            'driver_number', \n",
    "                            'position'\n",
    "                           ]]"
   ]
  },
  {
   "cell_type": "code",
   "execution_count": null,
   "id": "274a2882-392a-496f-badb-d7ee3a527e94",
   "metadata": {},
   "outputs": [],
   "source": [
    "#because all the keys are database specific, need to find commonalities to merge with all other data <--later"
   ]
  },
  {
   "cell_type": "code",
   "execution_count": 364,
   "id": "90a685d5-4a2d-4166-808e-a7be24f36d32",
   "metadata": {},
   "outputs": [],
   "source": [
    "meetings = sessions_df[sessions_df['session_name'] == 'Race']\n",
    "meetings = meetings[['date', 'meeting_key']].drop_duplicates()"
   ]
  },
  {
   "cell_type": "code",
   "execution_count": 360,
   "id": "fc3ed1f5-7f29-470f-96d4-34f864cd00dd",
   "metadata": {},
   "outputs": [],
   "source": [
    "recent_years = results_df[results_df['year'] >= 2023]\n",
    "recent_drivers = recent_years[['driverId', 'number']].drop_duplicates()\n",
    "recent_races = recent_years[['raceId', 'date', 'circuitId']].drop_duplicates()"
   ]
  },
  {
   "cell_type": "code",
   "execution_count": 368,
   "id": "4136d198-c7df-46c0-8486-f083e9a08bd2",
   "metadata": {},
   "outputs": [],
   "source": [
    "meetings_merged = pd.merge(meetings, recent_races, on = ['date'])"
   ]
  },
  {
   "cell_type": "code",
   "execution_count": 112,
   "id": "64c25162-abdd-4033-9cfe-9d66f7b594f8",
   "metadata": {},
   "outputs": [],
   "source": [
    "#grab 'fastestLapTime', 'fastestLap', and 'raceId', 'driverId' for merge for results_df\n",
    "fast_laps = pd.read_csv('../data/results.csv', usecols=['raceId', 'driverId', 'fastestLapTime', 'fastestLap'])"
   ]
  },
  {
   "cell_type": "code",
   "execution_count": null,
   "id": "cf0e7b49-2dbd-4480-996f-dda7ebc357b8",
   "metadata": {},
   "outputs": [],
   "source": [
    "#finishPosition - '\\N' if driver DNFed (not a NaN)\n",
    "#finishPosNum - same as above, but floats w/ NaNs <-- REMOVE\n",
    "#positionText - 'R' if driver DNFed\n",
    "#positionOrder - lists all drivers in points order, including DNFs <- start by using this\n",
    "results_df.sample(5)"
   ]
  },
  {
   "cell_type": "code",
   "execution_count": 114,
   "id": "02ae8126-e860-4278-96c2-e6d5501790f3",
   "metadata": {},
   "outputs": [],
   "source": [
    "#dropping 'finishPosNum' because want placement to be int (I think?), and adding fastest laps\n",
    "results_df = results_df.drop(columns = 'finishPosNum')\n",
    "results_df = pd.merge(results_df, fast_laps, on = ['raceId', 'driverId'])"
   ]
  },
  {
   "cell_type": "code",
   "execution_count": null,
   "id": "f574b10e-340f-4701-ab32-b12912946154",
   "metadata": {},
   "outputs": [],
   "source": [
    "results_df.info()"
   ]
  },
  {
   "cell_type": "code",
   "execution_count": 118,
   "id": "6eaf70d2-1f31-48c9-9eab-f1a8f6aa30a1",
   "metadata": {},
   "outputs": [],
   "source": [
    "pd.options.mode.chained_assignment = None  # default='warn'"
   ]
  },
  {
   "cell_type": "code",
   "execution_count": 120,
   "id": "b8647c75-ade2-4993-9f52-f32fd5c67408",
   "metadata": {},
   "outputs": [],
   "source": [
    "results = results_df[['raceId', #database-specific id\n",
    "                           'year', \n",
    "                           'round', #race # within x year\n",
    "                           'date',\n",
    "                           'circuitId', #database-specific id\n",
    "                           'driverId', #database-specific id\n",
    "                           'code', #three-letter driver abbr. (for my reference)\n",
    "                           'constructorId', #database-specific id\n",
    "                           'grid', #starting position on grid; 0 = pitlane start\n",
    "                           'positionOrder', #finishing position, includes numbered finishes for retirements\n",
    "                           #positionText, #object; 'R' if driver DNFed\n",
    "                           'points', #pts scored in race towards WDC/WCC\n",
    "                           'YTDpoints',\n",
    "                           'WDCposition', #as of race entry\n",
    "                           'wins', #as of race entry within x year\n",
    "                           #add: \n",
    "                           #% of points won?\n",
    "                           #total wins on specific circuit as of race -- DONE\n",
    "                           #performance on circuit (win %) -- DONE\n",
    "                           #performance on circuit (avg finishing pos) -- DONE\n",
    "                           #last race finish -- DONE\n",
    "                           #average of last 4 race finishes -- DONE\n",
    "                           #YTD avg finish pos -- DONE\n",
    "                           #career win% -- DONE\n",
    "                           #YTD win% -- DONE\n",
    "                           #top 3 finishes on circuit -- DONE\n",
    "                           #maybe add wins to-date AND avg placement with constructor? (how to link driver + constructor)\n",
    "                           #maybe avg constructor performance to date?\n",
    "                           #whether driver is a rookie -- DONE\n",
    "                          ]]\n",
    "results['date'] = pd.to_datetime(results['date'])\n",
    "#results[['circuitId', 'driverId', 'constructorId']] = results[['circuitId', 'driverId', 'constructorId']].astype(str) #bad for models that need numerical data"
   ]
  },
  {
   "cell_type": "markdown",
   "id": "10af7198-26c3-4cbc-bae0-8f8b3942ca59",
   "metadata": {},
   "source": [
    "What other features are important and can they be factored into the model?  \n",
    "- performance in pre-race sessions <- hoping to add for 2023 - present\n",
    "- constructor performance? (good car = good performance)\n",
    "- within teams, driver vs driver stats?\n",
    "- team pitstop performance <- need to add at some point\n",
    "- weather (rain / rain expected) <- need to add at some point\n",
    "- tyre performance <-- if I can find this (maybe based on tyre+laptime/stints?)"
   ]
  },
  {
   "cell_type": "code",
   "execution_count": null,
   "id": "ef578f39-7b3c-4b8a-9725-18de34448d72",
   "metadata": {},
   "outputs": [],
   "source": [
    "#filling in the NaNs\n",
    "nan_df = results[results.isna().any(axis=1)]"
   ]
  },
  {
   "cell_type": "code",
   "execution_count": null,
   "id": "50b52ac8-32f1-4804-9841-f7bbb0f4cb0f",
   "metadata": {},
   "outputs": [],
   "source": [
    "#if scored 0 points, then YTD and wins will also be 0\n",
    "nan_df.fillna({'YTDpoints': 0}, inplace=True)\n",
    "nan_df.fillna({'wins': 0}, inplace=True)\n",
    "nan_df['WDCposition'] = nan_df['positionOrder']"
   ]
  },
  {
   "cell_type": "code",
   "execution_count": null,
   "id": "da048ce4-8ff5-405a-953b-23081e65f4d1",
   "metadata": {},
   "outputs": [],
   "source": [
    "results = results.combine_first(nan_df)\n",
    "results[['WDCposition', 'wins']] = results[['WDCposition', 'wins']].astype('int64')"
   ]
  },
  {
   "cell_type": "code",
   "execution_count": null,
   "id": "890ee061-5335-4eb7-9685-f3d694380534",
   "metadata": {},
   "outputs": [],
   "source": [
    "results['won'] = np.where(results['positionOrder'] == 1, 1, 0)\n",
    "results['podium'] = np.where((results['positionOrder'] >= 1) & (results['positionOrder'] <= 3), 1, 0)\n",
    "results['top10'] = np.where((results['positionOrder'] >= 1) & (results['positionOrder'] <= 10), 1, 0)"
   ]
  },
  {
   "cell_type": "code",
   "execution_count": null,
   "id": "6c155f71-37d6-4e1a-9d16-6a6fd7e5123b",
   "metadata": {},
   "outputs": [],
   "source": [
    "#adding wins on specific circuit as of year [take #2, don't ask] (to date)\n",
    "results['prior_wins_on_circuit'] = 0\n",
    "driver_list = results['driverId'].unique()\n",
    "for driver in driver_list:\n",
    "    driver_df = results[results['driverId'] == driver].sort_values(by=['year','round'])\n",
    "    circuit_list = driver_df['circuitId'].unique()\n",
    "    for circuit in circuit_list:\n",
    "        circuits_df = driver_df[driver_df['circuitId'] == circuit].sort_values(by=['year'])\n",
    "        x=0\n",
    "        for i in range(circuits_df.shape[0]):\n",
    "            index = circuits_df.index[i]\n",
    "            results.loc[index, 'prior_wins_on_circuit'] = x\n",
    "            if circuits_df['won'].iloc[i] == 1:\n",
    "                x+=1           "
   ]
  },
  {
   "cell_type": "code",
   "execution_count": null,
   "id": "9625349f-6cff-4392-9a1b-910a2974c2ed",
   "metadata": {},
   "outputs": [],
   "source": [
    "#adding win percentage on circuit (to date)\n",
    "results['win_percentage_on_circuit'] = 0\n",
    "driver_list = results['driverId'].unique()\n",
    "for driver in driver_list:\n",
    "    driver_df = results[results['driverId'] == driver].sort_values(by=['year','round'])\n",
    "    circuit_list = driver_df['circuitId'].unique()\n",
    "    for circuit in circuit_list:\n",
    "        circuits_df = driver_df[driver_df['circuitId'] == circuit].sort_values(by=['year'])\n",
    "        win_percentage = 0\n",
    "        wins = 0\n",
    "        count = 1\n",
    "        for i in range(circuits_df.shape[0]):\n",
    "            win_percentage = round(((wins / count) * 100), 1)\n",
    "            index = circuits_df.index[i]\n",
    "            results.loc[index, 'win_percentage_on_circuit'] = win_percentage\n",
    "            if circuits_df['won'].iloc[i] == 1:\n",
    "                wins +=1\n",
    "            count +=1"
   ]
  },
  {
   "cell_type": "code",
   "execution_count": null,
   "id": "7b19b484-e35c-4219-bc90-8c6169cf3ddd",
   "metadata": {},
   "outputs": [],
   "source": [
    "#adding average finishing position on circuit (to date)\n",
    "results['avg_finish_pos_on_circuit'] = 0\n",
    "driver_list = results['driverId'].unique()\n",
    "for driver in driver_list:\n",
    "    driver_df = results[results['driverId'] == driver].sort_values(by=['year','round'])\n",
    "    circuit_list = driver_df['circuitId'].unique()\n",
    "    for circuit in circuit_list:\n",
    "        circuits_df = driver_df[driver_df['circuitId'] == circuit].sort_values(by=['year'])\n",
    "        avg_finish_pos = 0\n",
    "        finish_pos = 0\n",
    "        cumulative_finish_pos = 0\n",
    "        count = 1\n",
    "        for i in range(circuits_df.shape[0]):\n",
    "            avg_finish_pos = round((cumulative_finish_pos / count), 0)\n",
    "            index = circuits_df.index[i]\n",
    "            results.loc[index, 'avg_finish_pos_on_circuit'] = avg_finish_pos\n",
    "            finish_pos = circuits_df['positionOrder'].iloc[i]\n",
    "            cumulative_finish_pos += finish_pos\n",
    "            count +=1"
   ]
  },
  {
   "cell_type": "code",
   "execution_count": null,
   "id": "88ba96bb-bff2-4c6f-ad41-77172330acb7",
   "metadata": {},
   "outputs": [],
   "source": [
    "#adding previous race finish\n",
    "results['previous_finish'] = 0\n",
    "driver_list = results['driverId'].unique()\n",
    "for driver in driver_list:\n",
    "    driver_df = results[results['driverId'] == driver].sort_values(by=['year','round'])\n",
    "    previous_finish = 0\n",
    "    for i in range(driver_df.shape[0]):\n",
    "        index = driver_df.index[i]\n",
    "        results.loc[index, 'previous_finish'] = previous_finish\n",
    "        previous_finish = driver_df['positionOrder'].iloc[i]        "
   ]
  },
  {
   "cell_type": "code",
   "execution_count": null,
   "id": "b28e6790-b1e9-4b6c-a611-7271db0c485b",
   "metadata": {},
   "outputs": [],
   "source": [
    "#adding average of last 4 (or up to 4) race finishes\n",
    "results['avg_last_4_finishes'] = np.nan\n",
    "driver_list = results['driverId'].unique()\n",
    "for driver in driver_list:\n",
    "    driver_df = results[results['driverId'] == driver].sort_values(by=['year','round'])\n",
    "    driver_df['avg_last_4_finishes'] = round((driver_df['positionOrder'].rolling(4, min_periods=1).mean()), 0)\n",
    "    temp_df = driver_df[['avg_last_4_finishes']].shift(periods=1, fill_value=0)\n",
    "    results = results.combine_first(temp_df)"
   ]
  },
  {
   "cell_type": "code",
   "execution_count": null,
   "id": "c98e1bab-6259-4e6d-93e5-503bd166c373",
   "metadata": {},
   "outputs": [],
   "source": [
    "#adding YTD avg finish pos\n",
    "results['YTD_avg_finish_pos'] = np.nan\n",
    "driver_list = results['driverId'].unique()\n",
    "for driver in driver_list:\n",
    "    driver_df = results[results['driverId'] == driver].sort_values(by=['year','round'])\n",
    "    for year in range(driver_df['year'].min(), driver_df['year'].max()+1):\n",
    "        one_year_df = driver_df[driver_df['year'] == year].sort_values(by=['round'])\n",
    "        one_year_df['YTD_avg_finish_pos'] = round((one_year_df['positionOrder'].expanding().mean()), 0).shift(periods=1, fill_value=0)\n",
    "        temp_df = one_year_df[['YTD_avg_finish_pos']]\n",
    "        results = results.combine_first(temp_df)"
   ]
  },
  {
   "cell_type": "code",
   "execution_count": null,
   "id": "8b09bdc4-6ce0-4817-b0e0-c989dd3fc836",
   "metadata": {},
   "outputs": [],
   "source": [
    "#adding career win% (to date)\n",
    "results['career_win_pct'] = 0\n",
    "driver_list = results['driverId'].unique()\n",
    "for driver in driver_list:\n",
    "    driver_df = results[results['driverId'] == driver].sort_values(by=['year','round'])\n",
    "    win_percentage = 0\n",
    "    wins = 0\n",
    "    count = 1\n",
    "    for i in range(driver_df.shape[0]):\n",
    "        win_percentage = round(((wins / count) * 100), 1)\n",
    "        index = driver_df.index[i]\n",
    "        results.loc[index, 'career_win_pct'] = win_percentage\n",
    "        if driver_df['won'].iloc[i] == 1:\n",
    "            wins +=1\n",
    "        count +=1"
   ]
  },
  {
   "cell_type": "code",
   "execution_count": null,
   "id": "4db7db83-696c-4898-a190-eda90257c953",
   "metadata": {},
   "outputs": [],
   "source": [
    "#adding YTD win%\n",
    "results['YTD_win_pct'] = 0\n",
    "driver_list = results['driverId'].unique()\n",
    "for driver in driver_list:\n",
    "    driver_df = results[results['driverId'] == driver].sort_values(by=['year','round'])\n",
    "    for year in range(driver_df['year'].min(), driver_df['year'].max()+1):\n",
    "        one_year_df = driver_df[driver_df['year'] == year].sort_values(by=['round'])\n",
    "        win_percentage = 0\n",
    "        wins = 0\n",
    "        count = 1\n",
    "        for i in range(one_year_df.shape[0]):\n",
    "            win_percentage = round(((wins / count) * 100), 1)\n",
    "            index = one_year_df.index[i]\n",
    "            results.loc[index, 'YTD_win_pct'] = win_percentage\n",
    "            if one_year_df['won'].iloc[i] == 1:\n",
    "                wins +=1\n",
    "            count +=1"
   ]
  },
  {
   "cell_type": "code",
   "execution_count": null,
   "id": "494b86ed-4682-4aad-8008-6cf0a7c824b9",
   "metadata": {},
   "outputs": [],
   "source": [
    "#adding top3 finishes on circuit (to date)\n",
    "results['top_3_finishes_on_circuit'] = 0\n",
    "driver_list = results['driverId'].unique()\n",
    "for driver in driver_list:\n",
    "    driver_df = results[results['driverId'] == driver].sort_values(by=['year','round'])\n",
    "    circuit_list = driver_df['circuitId'].unique()\n",
    "    for circuit in circuit_list:\n",
    "        circuits_df = driver_df[driver_df['circuitId'] == circuit].sort_values(by=['year'])\n",
    "        x=0\n",
    "        for i in range(circuits_df.shape[0]):\n",
    "            index = circuits_df.index[i]\n",
    "            results.loc[index, 'top_3_finishes_on_circuit'] = x\n",
    "            if (circuits_df['positionOrder'].iloc[i] >= 1) & (circuits_df['positionOrder'].iloc[i] <= 3):\n",
    "                x+=1       "
   ]
  },
  {
   "cell_type": "code",
   "execution_count": null,
   "id": "65f74fc0-77d2-4eac-bd15-9d9f03f07841",
   "metadata": {},
   "outputs": [],
   "source": [
    "#adding whether driver is a rookier (first year)\n",
    "results['rookie'] = 0\n",
    "driver_list = results['driverId'].unique()\n",
    "for driver in driver_list:\n",
    "    driver_df = results[results['driverId'] == driver]\n",
    "    rookie_year = driver_df['year'].min()\n",
    "    driver_df = driver_df[driver_df['year'] == rookie_year]\n",
    "    for i in range(driver_df.shape[0]):\n",
    "        index = driver_df.index[i]\n",
    "        results.loc[index, 'rookie'] = 1"
   ]
  },
  {
   "cell_type": "code",
   "execution_count": null,
   "id": "d9b36f1f-64e1-45bb-9062-05c9d05f335e",
   "metadata": {},
   "outputs": [],
   "source": [
    "results.columns"
   ]
  },
  {
   "cell_type": "code",
   "execution_count": null,
   "id": "8a836c84-f194-4d5d-99ed-dae1070e35bb",
   "metadata": {},
   "outputs": [],
   "source": [
    "#isolating the years (2001- ) and columns of interest for the model; using 2001 b/c first year of oldest active driver in 2024/2025\n",
    "model_df = results[['raceId', #database-specific id\n",
    "                    'year', \n",
    "                    'round', #race # within x year\n",
    "                    'date',\n",
    "                    'circuitId', #database-specific id\n",
    "                    'driverId', #database-specific id\n",
    "                    'code', #three-letter driver abbr. (for my reference)\n",
    "                    'constructorId', #database-specific id\n",
    "                    'grid', #starting position on grid; 0 = pitlane start\n",
    "                    'positionOrder', #finishing position, includes numbered finishes for retirements\n",
    "                    'won', #binary, 1=win\n",
    "                    'podium', #binary for podium finish\n",
    "                    'top10', #binary for points finish\n",
    "                    'wins', #as of race entry within x year\n",
    "                    'YTD_win_pct',\n",
    "                    'previous_finish',\n",
    "                    'YTD_avg_finish_pos',\n",
    "                    'avg_last_4_finishes',\n",
    "                    'avg_finish_pos_on_circuit', \n",
    "                    'prior_wins_on_circuit',\n",
    "                    'win_percentage_on_circuit',\n",
    "                    'top_3_finishes_on_circuit',\n",
    "                    'career_win_pct',\n",
    "                    'rookie',]]\n",
    "model_df = model_df[model_df['year'] > 2001]"
   ]
  },
  {
   "cell_type": "markdown",
   "id": "03296080-a836-49c7-99bf-7a7d51e4bbae",
   "metadata": {},
   "source": [
    "Model building:"
   ]
  },
  {
   "cell_type": "code",
   "execution_count": null,
   "id": "bc78d692-6325-4d82-aa16-57c67743454d",
   "metadata": {},
   "outputs": [],
   "source": [
    "import lightgbm as lgb\n",
    "from sklearn.linear_model import LogisticRegression\n",
    "from sklearn.preprocessing import StandardScaler\n",
    "from sklearn.metrics import (\n",
    "    ConfusionMatrixDisplay,\n",
    "    accuracy_score,\n",
    "    classification_report,\n",
    "    confusion_matrix,\n",
    "    f1_score,\n",
    ") \n",
    "import matplotlib.pyplot as plt\n",
    "import seaborn as sns"
   ]
  },
  {
   "cell_type": "markdown",
   "id": "e78446af-488f-473b-a871-2fcf322a7e19",
   "metadata": {},
   "source": [
    "Logistic Regression"
   ]
  },
  {
   "cell_type": "code",
   "execution_count": null,
   "id": "aef05ff3-b555-4513-a3d0-55e49c24a0a9",
   "metadata": {},
   "outputs": [],
   "source": [
    "model_df_copy = model_df\n",
    "model_df_copy[['circuitId', 'driverId', 'constructorId']] = model_df_copy[['circuitId', 'driverId', 'constructorId']].astype(str)"
   ]
  },
  {
   "cell_type": "code",
   "execution_count": null,
   "id": "e3b0700e-716e-4237-bd45-a13400e0aef9",
   "metadata": {},
   "outputs": [],
   "source": [
    "train_data_2 = model_df_copy[model_df_copy['year'] < 2024]\n",
    "test_data_2 = model_df_copy[model_df['year'] == 2024]"
   ]
  },
  {
   "cell_type": "code",
   "execution_count": null,
   "id": "b8767c60-b5c5-4999-83c6-4299c0e94309",
   "metadata": {},
   "outputs": [],
   "source": [
    "X_train = train_data_2.drop(columns = ['won', 'podium', 'top10', 'positionOrder', 'date', 'code'])\n",
    "y_train = train_data_2['won']\n",
    "X_test = test_data_2.drop(columns = ['won', 'podium', 'top10', 'positionOrder', 'date', 'code'])\n",
    "y_test = test_data_2['won']"
   ]
  },
  {
   "cell_type": "code",
   "execution_count": null,
   "id": "69bc62d6-aa6c-46dd-b241-2c00d750213b",
   "metadata": {},
   "outputs": [],
   "source": [
    "scaler = StandardScaler()"
   ]
  },
  {
   "cell_type": "code",
   "execution_count": null,
   "id": "89fa6f84-b00e-4219-8a05-f1208abc61bc",
   "metadata": {},
   "outputs": [],
   "source": [
    "X_train_scaled = scaler.fit_transform(X_train)  \n",
    "X_test_scaled = scaler.transform(X_test)"
   ]
  },
  {
   "cell_type": "code",
   "execution_count": null,
   "id": "3b07467e-1c64-4820-9efc-96f887752e7f",
   "metadata": {},
   "outputs": [],
   "source": [
    "lr_model = LogisticRegression(class_weight = 'balanced', max_iter=1500, random_state=42)\n",
    "lr_model.fit(X_train_scaled, y_train)\n",
    "\n",
    "y_pred = lr_model.predict(X_test_scaled)"
   ]
  },
  {
   "cell_type": "code",
   "execution_count": null,
   "id": "7a09580c-b4d6-4d66-95d9-67f02049c5b3",
   "metadata": {},
   "outputs": [],
   "source": [
    "accuracy = accuracy_score(y_test, y_pred)\n",
    "print(f\"Accuracy: {accuracy:.4f}\")\n",
    "print(\"Classification Report:\\n\", classification_report(y_test, y_pred))\n",
    "\n",
    "plt.figure(figsize=(6, 4))\n",
    "sns.heatmap(confusion_matrix(y_test, y_pred), annot=True, fmt='d', cmap='Oranges',\n",
    "            xticklabels=lr_model.classes_,\n",
    "            yticklabels=lr_model.classes_)\n",
    "plt.xlabel('Predicted')\n",
    "plt.ylabel('Actual')\n",
    "plt.title('Confusion Matrix')\n",
    "plt.show()"
   ]
  },
  {
   "cell_type": "code",
   "execution_count": null,
   "id": "dfc5f4da-0264-453d-9c78-39285b8920f7",
   "metadata": {},
   "outputs": [],
   "source": [
    "analysis = test_data_2[['won']]\n",
    "analysis['prediction'] = y_pred\n",
    "analysis['probability'] = lr_model.predict_proba(X_test)[:,1]\n",
    "analysis['year'] = model_df_copy['year']\n",
    "analysis['position'] = model_df_copy['positionOrder']"
   ]
  },
  {
   "cell_type": "code",
   "execution_count": null,
   "id": "b3b1066b-1ea9-4460-8e74-bdd9e16ebeca",
   "metadata": {},
   "outputs": [],
   "source": [
    "vars = train_data_2.drop(columns = ['won', 'positionOrder', 'date', 'code']).columns\n",
    "vars = vars.to_list()"
   ]
  },
  {
   "cell_type": "code",
   "execution_count": null,
   "id": "031513a6-e96d-4cf4-948b-96fecdbb18cc",
   "metadata": {},
   "outputs": [],
   "source": [
    "pd.DataFrame({\n",
    "    'variable': vars,\n",
    "    'coef': lr_model.coef_[0]\n",
    "}).sort_values('coef', ascending=False)"
   ]
  },
  {
   "cell_type": "markdown",
   "id": "df92e0f1-320d-43cf-84b3-328104910696",
   "metadata": {},
   "source": [
    "LGBM Regressor"
   ]
  },
  {
   "cell_type": "code",
   "execution_count": null,
   "id": "55af645e-d199-48dd-93e8-9619de569198",
   "metadata": {},
   "outputs": [],
   "source": [
    "train_data_1 = model_df[model_df['year'] < 2024]\n",
    "test_data_1 = model_df[model_df['year'] == 2024]"
   ]
  },
  {
   "cell_type": "code",
   "execution_count": null,
   "id": "b22c4920-649b-4059-a10a-625a92011d9a",
   "metadata": {},
   "outputs": [],
   "source": [
    "X_train = train_data_1.drop(columns = ['won', 'podium', 'top10', 'positionOrder', 'date', 'code'])\n",
    "y_train = train_data_1['top10']\n",
    "X_test = test_data_1.drop(columns = ['won', 'podium', 'top10', 'positionOrder', 'date', 'code'])\n",
    "y_test = test_data_1['top10']"
   ]
  },
  {
   "cell_type": "code",
   "execution_count": null,
   "id": "2bc14290-94af-4539-a59b-833b70a7ba76",
   "metadata": {},
   "outputs": [],
   "source": [
    "params = {\n",
    "'objective': 'binary', #predicting win/not\n",
    "'boosting_type': 'gbdt', #default\n",
    "'num_leaves': 31, #default\n",
    "'learning_rate': 0.1, #default\n",
    "'feature_fraction': 0.9, #default; can be reduced to speed up training or reduce overfitting\n",
    "#'class_label': 'weight'\n",
    "}\n",
    "reg = lgb.LGBMClassifier(**params)\n",
    "reg.fit(X_train, y_train)"
   ]
  },
  {
   "cell_type": "code",
   "execution_count": null,
   "id": "b3d1510a-0fab-433a-a80a-8c934b9bd74f",
   "metadata": {},
   "outputs": [],
   "source": [
    "y_pred = reg.predict(X_test)\n",
    "print(classification_report(y_test, y_pred))"
   ]
  },
  {
   "cell_type": "code",
   "execution_count": null,
   "id": "d47b565a-f16b-429f-be48-efada377408d",
   "metadata": {},
   "outputs": [],
   "source": [
    "accuracy = accuracy_score(y_test, y_pred)\n",
    "print(f\"Accuracy: {accuracy:.4f}\")\n",
    "print(\"Classification Report:\\n\", classification_report(y_test, y_pred))\n",
    "\n",
    "plt.figure(figsize=(6, 4))\n",
    "sns.heatmap(confusion_matrix(y_test, y_pred), annot=True, fmt='d', cmap='Oranges',\n",
    "            xticklabels=clf.classes_,\n",
    "            yticklabels=clf.classes_)\n",
    "plt.xlabel('Predicted')\n",
    "plt.ylabel('Actual')\n",
    "plt.title('Confusion Matrix')\n",
    "plt.show()"
   ]
  },
  {
   "cell_type": "code",
   "execution_count": null,
   "id": "4b998dcf-672d-4b58-b440-a2673f29fb27",
   "metadata": {},
   "outputs": [],
   "source": [
    "analysis = test_data_1[['won']]\n",
    "analysis['prediction'] = y_pred\n",
    "analysis['probability'] = clf.predict_proba(X_test)[:,1]\n",
    "analysis['year'] = model_df['year']\n",
    "analysis['position'] = model_df['positionOrder']"
   ]
  },
  {
   "cell_type": "code",
   "execution_count": null,
   "id": "b1444ca1-7fee-48ac-a9b2-60ab7fcc2390",
   "metadata": {},
   "outputs": [],
   "source": [
    "analysis"
   ]
  },
  {
   "cell_type": "markdown",
   "id": "a51f983e-bc07-4287-9ade-ebf3542a8bff",
   "metadata": {},
   "source": [
    "LGBM Classifier"
   ]
  },
  {
   "cell_type": "code",
   "execution_count": null,
   "id": "f3bb1d90-d328-4b79-81d7-79f9495800b6",
   "metadata": {},
   "outputs": [],
   "source": [
    "X_train = train_data_1.drop(columns = ['won', 'podium', 'top10', 'positionOrder', 'date', 'code'])\n",
    "y_train = train_data_1['positionOrder']\n",
    "X_test = test_data_1.drop(columns = ['won', 'podium', 'top10', 'positionOrder', 'date', 'code'])\n",
    "y_test = test_data_1['positionOrder']"
   ]
  },
  {
   "cell_type": "code",
   "execution_count": null,
   "id": "c2bd0929-ef39-4989-b29f-4cabeab51089",
   "metadata": {},
   "outputs": [],
   "source": [
    "params = {\n",
    "'objective': 'multiclass', #predicting placement, 1-20\n",
    "'boosting_type': 'gbdt', #default\n",
    "'num_leaves': 31, #default\n",
    "'learning_rate': 0.1, #default\n",
    "'feature_fraction': 0.9, #default; can be reduced to speed up training or reduce overfitting\n",
    "'class_label': 'weight'\n",
    "}\n",
    "clf = lgb.LGBMClassifier(**params)\n",
    "clf.fit(X_train, y_train)"
   ]
  },
  {
   "cell_type": "code",
   "execution_count": null,
   "id": "5a4c7d58-f6c3-4d35-ae63-17a03f1a20cf",
   "metadata": {},
   "outputs": [],
   "source": [
    "predictions = clf.predict(X_test)\n",
    "print(classification_report(y_test, predictions))"
   ]
  },
  {
   "cell_type": "code",
   "execution_count": null,
   "id": "0e6301b9-1541-45ea-b6b2-a9665c90f864",
   "metadata": {},
   "outputs": [],
   "source": []
  }
 ],
 "metadata": {
  "kernelspec": {
   "display_name": "Python 3 (ipykernel)",
   "language": "python",
   "name": "python3"
  },
  "language_info": {
   "codemirror_mode": {
    "name": "ipython",
    "version": 3
   },
   "file_extension": ".py",
   "mimetype": "text/x-python",
   "name": "python",
   "nbconvert_exporter": "python",
   "pygments_lexer": "ipython3",
   "version": "3.12.3"
  }
 },
 "nbformat": 4,
 "nbformat_minor": 5
}
