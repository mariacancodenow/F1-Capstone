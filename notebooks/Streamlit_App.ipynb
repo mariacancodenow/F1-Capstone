{
 "cells": [
  {
   "cell_type": "markdown",
   "id": "5e697912-6e37-42c0-b934-ec23c86e63ee",
   "metadata": {},
   "source": [
    "Prepping data for Streamlit App"
   ]
  },
  {
   "cell_type": "code",
   "execution_count": 3,
   "id": "87459a8b-c880-4151-b9e4-88980155824c",
   "metadata": {},
   "outputs": [],
   "source": [
    "import pandas as pd\n",
    "import os"
   ]
  },
  {
   "cell_type": "code",
   "execution_count": 5,
   "id": "ead4086b-6d01-4a9a-bc92-0a00bf6e7d8a",
   "metadata": {},
   "outputs": [],
   "source": [
    "results = pd.read_csv('../data/results_2001-2024.csv')\n",
    "predictions = pd.read_csv('../data/predictions_2024.csv')"
   ]
  },
  {
   "cell_type": "code",
   "execution_count": 7,
   "id": "7ccfe0ab-7c0d-4d74-b09b-a45691c1146a",
   "metadata": {},
   "outputs": [],
   "source": [
    "drivers = pd.read_csv('../data/drivers.csv')\n",
    "constructors = pd.read_csv('../data/constructors.csv')\n",
    "circuits = pd.read_csv('../data/circuits.csv')"
   ]
  },
  {
   "cell_type": "code",
   "execution_count": 9,
   "id": "76471fcf-615c-4100-8d2b-5e09bf84c51f",
   "metadata": {},
   "outputs": [],
   "source": [
    "results_2024 = results[results['year'] == 2024]"
   ]
  },
  {
   "cell_type": "code",
   "execution_count": 11,
   "id": "bcfca8e0-646b-4de4-9b6c-f4eb2a22e67c",
   "metadata": {},
   "outputs": [],
   "source": [
    "predictions_2024 = predictions[['raceId', \n",
    "                                'driverId', \n",
    "                                'win_prediction', \n",
    "                                'win_probability', \n",
    "                                'podium_prediction',\n",
    "                                'podium_probability', \n",
    "                                'top10_prediction', \n",
    "                                'top10_probability']]"
   ]
  },
  {
   "cell_type": "code",
   "execution_count": 13,
   "id": "e0f47bc2-53eb-428a-b9a4-293c0b60ba93",
   "metadata": {},
   "outputs": [],
   "source": [
    "drivers_2024 = pd.merge(results_2024, predictions_2024, how='left', on=['raceId', 'driverId'])"
   ]
  },
  {
   "cell_type": "code",
   "execution_count": 83,
   "id": "db1ce7bb-0687-40e7-9445-66e492cd5f3a",
   "metadata": {},
   "outputs": [
    {
     "data": {
      "text/html": [
       "<div>\n",
       "<style scoped>\n",
       "    .dataframe tbody tr th:only-of-type {\n",
       "        vertical-align: middle;\n",
       "    }\n",
       "\n",
       "    .dataframe tbody tr th {\n",
       "        vertical-align: top;\n",
       "    }\n",
       "\n",
       "    .dataframe thead th {\n",
       "        text-align: right;\n",
       "    }\n",
       "</style>\n",
       "<table border=\"1\" class=\"dataframe\">\n",
       "  <thead>\n",
       "    <tr style=\"text-align: right;\">\n",
       "      <th></th>\n",
       "      <th>raceId</th>\n",
       "      <th>year</th>\n",
       "      <th>round</th>\n",
       "      <th>date</th>\n",
       "      <th>circuitId</th>\n",
       "      <th>driverId</th>\n",
       "      <th>code</th>\n",
       "      <th>constructorId</th>\n",
       "      <th>grid</th>\n",
       "      <th>positionOrder</th>\n",
       "      <th>...</th>\n",
       "      <th>win_percentage_on_circuit</th>\n",
       "      <th>top_3_finishes_on_circuit</th>\n",
       "      <th>career_win_pct</th>\n",
       "      <th>rookie</th>\n",
       "      <th>win_prediction</th>\n",
       "      <th>win_probability</th>\n",
       "      <th>podium_prediction</th>\n",
       "      <th>podium_probability</th>\n",
       "      <th>top10_prediction</th>\n",
       "      <th>top10_probability</th>\n",
       "    </tr>\n",
       "  </thead>\n",
       "  <tbody>\n",
       "    <tr>\n",
       "      <th>0</th>\n",
       "      <td>1121</td>\n",
       "      <td>2024</td>\n",
       "      <td>1</td>\n",
       "      <td>2024-03-02</td>\n",
       "      <td>3</td>\n",
       "      <td>830</td>\n",
       "      <td>VER</td>\n",
       "      <td>9</td>\n",
       "      <td>1</td>\n",
       "      <td>1</td>\n",
       "      <td>...</td>\n",
       "      <td>9.1</td>\n",
       "      <td>3</td>\n",
       "      <td>29.0</td>\n",
       "      <td>0</td>\n",
       "      <td>1</td>\n",
       "      <td>0.982196</td>\n",
       "      <td>1</td>\n",
       "      <td>1.387545</td>\n",
       "      <td>1</td>\n",
       "      <td>0.680963</td>\n",
       "    </tr>\n",
       "    <tr>\n",
       "      <th>1</th>\n",
       "      <td>1121</td>\n",
       "      <td>2024</td>\n",
       "      <td>1</td>\n",
       "      <td>2024-03-02</td>\n",
       "      <td>3</td>\n",
       "      <td>815</td>\n",
       "      <td>PER</td>\n",
       "      <td>9</td>\n",
       "      <td>5</td>\n",
       "      <td>2</td>\n",
       "      <td>...</td>\n",
       "      <td>7.1</td>\n",
       "      <td>3</td>\n",
       "      <td>2.3</td>\n",
       "      <td>0</td>\n",
       "      <td>0</td>\n",
       "      <td>-0.012594</td>\n",
       "      <td>1</td>\n",
       "      <td>0.630792</td>\n",
       "      <td>1</td>\n",
       "      <td>0.682091</td>\n",
       "    </tr>\n",
       "    <tr>\n",
       "      <th>2</th>\n",
       "      <td>1121</td>\n",
       "      <td>2024</td>\n",
       "      <td>1</td>\n",
       "      <td>2024-03-02</td>\n",
       "      <td>3</td>\n",
       "      <td>832</td>\n",
       "      <td>SAI</td>\n",
       "      <td>6</td>\n",
       "      <td>4</td>\n",
       "      <td>3</td>\n",
       "      <td>...</td>\n",
       "      <td>0.0</td>\n",
       "      <td>1</td>\n",
       "      <td>1.1</td>\n",
       "      <td>0</td>\n",
       "      <td>0</td>\n",
       "      <td>-0.014778</td>\n",
       "      <td>0</td>\n",
       "      <td>0.159752</td>\n",
       "      <td>1</td>\n",
       "      <td>1.155852</td>\n",
       "    </tr>\n",
       "    <tr>\n",
       "      <th>3</th>\n",
       "      <td>1121</td>\n",
       "      <td>2024</td>\n",
       "      <td>1</td>\n",
       "      <td>2024-03-02</td>\n",
       "      <td>3</td>\n",
       "      <td>844</td>\n",
       "      <td>LEC</td>\n",
       "      <td>6</td>\n",
       "      <td>2</td>\n",
       "      <td>4</td>\n",
       "      <td>...</td>\n",
       "      <td>12.5</td>\n",
       "      <td>2</td>\n",
       "      <td>4.0</td>\n",
       "      <td>0</td>\n",
       "      <td>0</td>\n",
       "      <td>-0.010204</td>\n",
       "      <td>1</td>\n",
       "      <td>0.922327</td>\n",
       "      <td>1</td>\n",
       "      <td>0.635792</td>\n",
       "    </tr>\n",
       "    <tr>\n",
       "      <th>4</th>\n",
       "      <td>1121</td>\n",
       "      <td>2024</td>\n",
       "      <td>1</td>\n",
       "      <td>2024-03-02</td>\n",
       "      <td>3</td>\n",
       "      <td>847</td>\n",
       "      <td>RUS</td>\n",
       "      <td>131</td>\n",
       "      <td>3</td>\n",
       "      <td>5</td>\n",
       "      <td>...</td>\n",
       "      <td>0.0</td>\n",
       "      <td>0</td>\n",
       "      <td>1.0</td>\n",
       "      <td>0</td>\n",
       "      <td>0</td>\n",
       "      <td>-0.013819</td>\n",
       "      <td>1</td>\n",
       "      <td>0.768052</td>\n",
       "      <td>1</td>\n",
       "      <td>0.845457</td>\n",
       "    </tr>\n",
       "  </tbody>\n",
       "</table>\n",
       "<p>5 rows × 30 columns</p>\n",
       "</div>"
      ],
      "text/plain": [
       "   raceId  year  round        date  circuitId  driverId code  constructorId  \\\n",
       "0    1121  2024      1  2024-03-02          3       830  VER              9   \n",
       "1    1121  2024      1  2024-03-02          3       815  PER              9   \n",
       "2    1121  2024      1  2024-03-02          3       832  SAI              6   \n",
       "3    1121  2024      1  2024-03-02          3       844  LEC              6   \n",
       "4    1121  2024      1  2024-03-02          3       847  RUS            131   \n",
       "\n",
       "   grid  positionOrder  ...  win_percentage_on_circuit  \\\n",
       "0     1              1  ...                        9.1   \n",
       "1     5              2  ...                        7.1   \n",
       "2     4              3  ...                        0.0   \n",
       "3     2              4  ...                       12.5   \n",
       "4     3              5  ...                        0.0   \n",
       "\n",
       "   top_3_finishes_on_circuit  career_win_pct  rookie  win_prediction  \\\n",
       "0                          3            29.0       0               1   \n",
       "1                          3             2.3       0               0   \n",
       "2                          1             1.1       0               0   \n",
       "3                          2             4.0       0               0   \n",
       "4                          0             1.0       0               0   \n",
       "\n",
       "   win_probability  podium_prediction  podium_probability  top10_prediction  \\\n",
       "0         0.982196                  1            1.387545                 1   \n",
       "1        -0.012594                  1            0.630792                 1   \n",
       "2        -0.014778                  0            0.159752                 1   \n",
       "3        -0.010204                  1            0.922327                 1   \n",
       "4        -0.013819                  1            0.768052                 1   \n",
       "\n",
       "   top10_probability  \n",
       "0           0.680963  \n",
       "1           0.682091  \n",
       "2           1.155852  \n",
       "3           0.635792  \n",
       "4           0.845457  \n",
       "\n",
       "[5 rows x 30 columns]"
      ]
     },
     "execution_count": 83,
     "metadata": {},
     "output_type": "execute_result"
    }
   ],
   "source": [
    "drivers_2024.head()"
   ]
  },
  {
   "cell_type": "code",
   "execution_count": 15,
   "id": "3246c3d3-ae76-4495-b7c6-5fae99871089",
   "metadata": {},
   "outputs": [],
   "source": [
    "#adding driver names and numbers\n",
    "drivers['name'] = drivers['forename'] + ' ' + drivers['surname']\n",
    "drivers_temp = drivers[['driverId', 'name', 'number']].drop_duplicates()"
   ]
  },
  {
   "cell_type": "code",
   "execution_count": 17,
   "id": "303a6293-01b9-426f-a56c-a5aa0d39b326",
   "metadata": {},
   "outputs": [],
   "source": [
    "drivers_2024 = pd.merge(drivers_2024, drivers_temp, how='left', on='driverId')"
   ]
  },
  {
   "cell_type": "code",
   "execution_count": 19,
   "id": "a28d7e7f-f085-43fd-ae64-415795db0bdd",
   "metadata": {},
   "outputs": [],
   "source": [
    "#adding constructor name\n",
    "constructors_temp = constructors[['constructorId', 'name']]\n",
    "constructors_temp = constructors_temp.rename(columns={'name': 'constructor_name'})"
   ]
  },
  {
   "cell_type": "code",
   "execution_count": 21,
   "id": "67e8e2ac-b240-4546-9ff6-9457392b29cd",
   "metadata": {},
   "outputs": [],
   "source": [
    "drivers_2024 = pd.merge(drivers_2024, constructors_temp, how='left', on='constructorId')"
   ]
  },
  {
   "cell_type": "code",
   "execution_count": 23,
   "id": "be209241-c3b3-42d2-a4e5-aa9db412c2ce",
   "metadata": {},
   "outputs": [],
   "source": [
    "#adding circuit name\n",
    "circuits_temp = circuits[['circuitId', 'name', 'location', 'country']]\n",
    "circuits_temp = circuits_temp.rename(columns={'name': 'circuit_name'})"
   ]
  },
  {
   "cell_type": "code",
   "execution_count": 25,
   "id": "7fbe2d6e-ba2f-4617-b620-4a802b538eed",
   "metadata": {},
   "outputs": [],
   "source": [
    "drivers_2024 = pd.merge(drivers_2024, circuits_temp, how='left', on='circuitId')"
   ]
  },
  {
   "cell_type": "code",
   "execution_count": 27,
   "id": "5a3a81e8-d43b-4910-98bc-ec947d803ca8",
   "metadata": {},
   "outputs": [],
   "source": [
    "#adding round number and circuit as one column for Streamlit selection\n",
    "drivers_2024['round_long'] = 'Round ' + drivers_2024['round'].astype(str) + ': ' + drivers_2024['circuit_name']"
   ]
  },
  {
   "cell_type": "code",
   "execution_count": 191,
   "id": "866280f6-fe94-4337-a5e2-649afa3e7c8d",
   "metadata": {},
   "outputs": [],
   "source": [
    "#saving to csv to use with Streamlit app\n",
    "os.makedirs('../data', exist_ok=True)  \n",
    "drivers_2024.to_csv('../data/mega_2024_df.csv', index=False)"
   ]
  },
  {
   "cell_type": "code",
   "execution_count": null,
   "id": "0fb25675-db01-4a5a-888f-16290ed7575e",
   "metadata": {},
   "outputs": [],
   "source": []
  }
 ],
 "metadata": {
  "kernelspec": {
   "display_name": "Python 3 (ipykernel)",
   "language": "python",
   "name": "python3"
  },
  "language_info": {
   "codemirror_mode": {
    "name": "ipython",
    "version": 3
   },
   "file_extension": ".py",
   "mimetype": "text/x-python",
   "name": "python",
   "nbconvert_exporter": "python",
   "pygments_lexer": "ipython3",
   "version": "3.12.3"
  }
 },
 "nbformat": 4,
 "nbformat_minor": 5
}
